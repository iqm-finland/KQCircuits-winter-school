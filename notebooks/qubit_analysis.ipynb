{
 "cells": [
  {
   "cell_type": "markdown",
   "metadata": {},
   "source": [
    "# Qubit properties from capacitance simulations\n",
    "\n",
    "In this notebook, we import the capacitance matrix computed in Elmer and write the resulting transmon Hamiltonian using [scQubits](https://scqubits.readthedocs.io/). The library may be installed with\n",
    "```bash\n",
    "pip install scqubits\n",
    "```\n",
    "ARM-based macOs might have problems with this, consult the scQubits documentation for workarounds.\n",
    "\n",
    "Additionally, one needs the regular `numpy`, `scipy`, and `matplotlib`.\n"
   ]
  },
  {
   "cell_type": "code",
   "execution_count": null,
   "metadata": {},
   "outputs": [],
   "source": [
    "import json\n",
    "from pathlib import Path\n",
    "\n",
    "import numpy as np\n",
    "from matplotlib import pyplot as plt\n",
    "import scqubits as scq"
   ]
  },
  {
   "attachments": {},
   "cell_type": "markdown",
   "metadata": {},
   "source": [
    "By default, the simulated results should be in the same folder as this notebook, or in some subdirectory. You may also point to the actual simulation folder in the `Path` object below."
   ]
  },
  {
   "cell_type": "code",
   "execution_count": null,
   "metadata": {},
   "outputs": [],
   "source": [
    "result_jsons = Path('./').rglob('*results.json')\n",
    "\n",
    "# Let's look at one result\n",
    "result_json = next(result_jsons)\n",
    "with open(result_json) as file_pointer:\n",
    "    result = json.load(file_pointer)\n",
    "result"
   ]
  },
  {
   "cell_type": "markdown",
   "metadata": {},
   "source": [
    "The matrix is given in a few formats in this case, let's use the `CMatrix`."
   ]
  },
  {
   "cell_type": "code",
   "execution_count": null,
   "metadata": {},
   "outputs": [],
   "source": [
    "result['CMatrix']"
   ]
  },
  {
   "attachments": {},
   "cell_type": "markdown",
   "metadata": {},
   "source": [
    "We simulated a case corresponding to the lumped-element model below:\n",
    "\n",
    "![lumped-element model](floating_qubit_coupled.png)\n",
    "\n",
    "For this case we should add a capacitive contribution of a full-length resonator to $C_{33}$. For $50\\,\\Omega$ and $f=6\\,\\text{GHz}$, this is roughly something like $450\\,\\text{fF}$. This will affect the $C_\\Sigma$ little but will be relevant for estimating coupling $g$."
   ]
  },
  {
   "cell_type": "code",
   "execution_count": null,
   "metadata": {},
   "outputs": [],
   "source": [
    "result['CMatrix'][2][2] += 450e-15\n",
    "\n",
    "\n",
    "def C_Sigma_two_islands(data):\n",
    "    r\"\"\" Data argument is a dict with `CMatrix` key of a 3x3 capacitance matrix with a coupler as the last port.\n",
    "    Derived with the Lagrangian. See the following references for similar derivations:\n",
    "    \n",
    "    [1] F. Marxer et al., “Long-distance transmon coupler with CZ gate fidelity above 99.8%”. arXiv:2208.09460, Dec. 19, 2022.\n",
    "    [2] A. P. A. Cronheim, “A Circuit Lagrangian Formulation of Opto-mechanical Coupling between two Electrical Resonators mediated by a SQUID”.\n",
    "        Delft University of Technology, Dec. 10, 2018. [Online]. Available: http://resolver.tudelft.nl/uuid:a4c72663-65c9-4857-8ffa-ebaf2cbc9782\n",
    "\n",
    "    Returns:\n",
    "        C_Sigma: Effective qubit total capacitance for :math:`C_\\Sigma`.\n",
    "        C_q: Qubit island–island capacitance with correction from coupler.\n",
    "        C_r: Resonator capacitance with correction from qubit islands.\n",
    "        C_qr: Effective coupling capacitance between the qubit and the resonator.\n",
    "    \"\"\"\n",
    "    C_sim = data['CMatrix']\n",
    "    C_theta = (C_sim[0][0] + C_sim[0][2] + C_sim[1][1] + C_sim[1][2])   \n",
    "    C_q = C_sim[0][1] + ((C_sim[0][0] + C_sim[0][2]) * (C_sim[1][1] + C_sim[1][2])) / C_theta\n",
    "    C_r = C_sim[0][2] + C_sim[1][2] + C_sim[2][2] - (C_sim[0][2] + C_sim[1][2]) ** 2 / C_theta\n",
    "    C_qr = (C_sim[0][2] * C_sim[1][1] - C_sim[1][2] * C_sim[0][0]) / C_theta\n",
    "    return C_q - C_qr ** 2 / C_r, C_q, C_r, C_qr\n",
    "\n",
    "C_Sigma, C_q, C_r, C_qr = C_Sigma_two_islands(result)\n",
    "print(f'{C_Sigma * 1e15} fF')"
   ]
  },
  {
   "cell_type": "code",
   "execution_count": null,
   "metadata": {},
   "outputs": [],
   "source": [
    "from scipy.constants import e, h, pi, physical_constants\n",
    "\n",
    "L_J = 7.015e-9  # Example from E. Hyyppä et al., ‘Unimon qubit’, Nat Commun, vol. 13, no. 1, Art. no. 1, Nov. 2022\n",
    "\n",
    "# Units on Hz for energy (E_J / h)\n",
    "E_J = (physical_constants['mag. flux quantum'][0] / (2*pi)) ** 2 / (h * L_J)\n",
    "E_C = e ** 2 / (2 * h * C_Sigma)\n",
    "print(f'ratio = {E_J / E_C}')\n",
    "\n",
    "scq.set_units('Hz')  # Energy is now given in Hertz\n",
    "transmon = scq.TunableTransmon(\n",
    "    EJmax=E_J,\n",
    "    EC=E_C,\n",
    "    d=0.1,\n",
    "    flux=0.95,\n",
    "    ng=0.5,  # Default charge dispersion\n",
    "    ncut=30,\n",
    ")\n",
    "\n",
    "transmon.plot_wavefunction(which=(0, 1, 2, 3), mode='abs_sqr');"
   ]
  },
  {
   "cell_type": "code",
   "execution_count": null,
   "metadata": {},
   "outputs": [],
   "source": [
    "evals = transmon.eigenvals(3)\n",
    "f_ge = evals[1] - evals[0]\n",
    "f'Qubit frequency = {f_ge/1e9} GHz'"
   ]
  },
  {
   "cell_type": "code",
   "execution_count": null,
   "metadata": {},
   "outputs": [],
   "source": [
    "transmon.plot_evals_vs_paramvals(param_name='flux', param_vals=np.linspace(0, 1, 100));\n",
    "plt.title('Flux dependence')\n",
    "\n",
    "fig, axes = transmon.plot_evals_vs_paramvals('ng', np.linspace(-2, 2, 100), evals_count=10, subtract_ground=False)\n",
    "plt.title('Charge dispersion')"
   ]
  },
  {
   "attachments": {},
   "cell_type": "markdown",
   "metadata": {},
   "source": [
    "## Exercise\n",
    "\n",
    "We can even try check the shift from coupling to a resonator. This is essentially the Jaynes—Cummings model but numerically.\n",
    "\n",
    "1. Implement the missing parts below to compute anharmonicity $\\alpha$ and the dispersive shift $\\chi$ when connected to a $6\\,\\text{GHz}$ resonator.\n",
    "    The formula for coupling is given by\n",
    "    $$\n",
    "    g \\approx \\frac{1}{2} \\frac{C_\\text{qr}}{\\sqrt{C_{\\Sigma} \\left( C_\\text{r} - \\frac{C_\\text{qr}^2}{C_\\text{q}} \\right) }}  \\sqrt{\\omega_\\text{q}\\omega_\\text{r}}\n",
    "    ,\n",
    "    $$\n",
    "    where $\\omega_\\alpha=2\\pi f_\\alpha$\n",
    "\n",
    "2. Instead of simply adding $450\\,\\text{fF}$ to `C[2][2]`, add the correct value for a $Z_0=100\\,\\Omega$ $\\lambda/4$ CPW resonator with a frequency of $6\\,\\text{GHz}$. You may use any online CPW calculators to get the properties. For a more programmable approach something like [`scikit-rf`](https://scikit-rf.readthedocs.io/en/latest/index.html) may be used. Use any reasonable values for the substrate properties."
   ]
  },
  {
   "cell_type": "code",
   "execution_count": null,
   "metadata": {},
   "outputs": [],
   "source": [
    "g = ...\n",
    "\n",
    "resonator = scq.Oscillator(\n",
    "    E_osc=...,\n",
    "    truncated_dim=10\n",
    ")\n",
    "\n",
    "hilbert_space = scq.HilbertSpace([transmon, resonator])\n",
    "# For details, see Eq. 3.3 in J. Koch et al., ‘Charge-insensitive qubit design derived from the Cooper pair box’,\n",
    "#   Phys. Rev. A, vol. 76, no. 4, p. 042319, Oct. 2007\n",
    "hilbert_space.add_interaction(\n",
    "    g_strength=g,\n",
    "    op1=transmon.n_operator,\n",
    "    op2=resonator.creation_operator,\n",
    "    add_hc=True\n",
    ")\n",
    "\n",
    "eigenvalues = hilbert_space.eigenvals(evals_count=20)\n",
    "\n",
    "hilbert_space.generate_lookup()\n",
    "g0 = eigenvalues[0]  # lowest state\n",
    "e0 = eigenvalues[hilbert_space.dressed_index((1, 0))]  # qubit is excited, resonator is ground\n",
    "f0 = eigenvalues[hilbert_space.dressed_index((2, 0))]\n",
    "g1 = eigenvalues[hilbert_space.dressed_index((0, 1))]\n",
    "e1 = eigenvalues[hilbert_space.dressed_index((1, 1))]\n",
    "\n",
    "f_ge_coupled = ...\n",
    "f_ef_coupled = ...\n",
    "f_rr_coupled_g = ...\n",
    "f_rr_coupled_e = e1 - e0\n",
    "\n",
    "print(f'anharmonicity = {(f_ef_coupled - f_ge_coupled) / 1e6} MHz', f'chi = {0.5 * (f_rr_coupled_e - f_rr_coupled_g) / 1e6} MHz')\n",
    "hilbert_space.hamiltonian()"
   ]
  }
 ],
 "metadata": {
  "kernelspec": {
   "display_name": "Python 3 (ipykernel)",
   "language": "python",
   "name": "python3"
  },
  "language_info": {
   "codemirror_mode": {
    "name": "ipython",
    "version": 3
   },
   "file_extension": ".py",
   "mimetype": "text/x-python",
   "name": "python",
   "nbconvert_exporter": "python",
   "pygments_lexer": "ipython3",
   "version": "3.10.6"
  },
  "vscode": {
   "interpreter": {
    "hash": "26de051ba29f2982a8de78e945f0abaf191376122a1563185a90213a26c5da77"
   }
  }
 },
 "nbformat": 4,
 "nbformat_minor": 4
}
